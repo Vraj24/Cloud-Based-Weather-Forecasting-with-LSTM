{
 "cells": [
  {
   "cell_type": "code",
   "execution_count": 5,
   "id": "d7f2f8b9-2812-4658-8e60-3a0284503dd5",
   "metadata": {},
   "outputs": [
    {
     "name": "stdout",
     "output_type": "stream",
     "text": [
      "✅ Cleaned dataset saved to s3://kinesis-lambda-s3-bucket1/cleaned/weather_data_cleaned.csv\n"
     ]
    },
    {
     "name": "stderr",
     "output_type": "stream",
     "text": [
      "C:\\Users\\DELL\\AppData\\Local\\Temp\\ipykernel_36252\\3450057730.py:28: SettingWithCopyWarning: \n",
      "A value is trying to be set on a copy of a slice from a DataFrame.\n",
      "Try using .loc[row_indexer,col_indexer] = value instead\n",
      "\n",
      "See the caveats in the documentation: https://pandas.pydata.org/pandas-docs/stable/user_guide/indexing.html#returning-a-view-versus-a-copy\n",
      "  df_cleaned['date'] = pd.to_datetime(df_cleaned['date'])\n"
     ]
    }
   ],
   "source": [
    "import boto3\n",
    "import json\n",
    "import pandas as pd\n",
    "from io import BytesIO\n",
    "\n",
    "s3 = boto3.client('s3')\n",
    "bucket = 'kinesis-lambda-s3-bucket1'  # your bucket\n",
    "prefix = 'weather_data/2025'  # or broader like 'weather_data/'\n",
    "\n",
    "records = []\n",
    "\n",
    "# List all JSON files under the prefix\n",
    "objects = s3.list_objects_v2(Bucket=bucket, Prefix=prefix)\n",
    "\n",
    "for obj in objects.get('Contents', []):\n",
    "    key = obj['Key']\n",
    "    if key.endswith('.json'):\n",
    "        file = s3.get_object(Bucket=bucket, Key=key)\n",
    "        content = file['Body'].read().decode('utf-8')\n",
    "        data = json.loads(content)\n",
    "        records.append(data)\n",
    "\n",
    "# Convert to DataFrame\n",
    "df = pd.DataFrame(records)\n",
    "\n",
    "# Optional Cleaning: drop NA, select columns, convert datatypes\n",
    "df_cleaned = df.dropna()\n",
    "df_cleaned['date'] = pd.to_datetime(df_cleaned['date'])\n",
    "\n",
    "# Save cleaned dataset as CSV back to S3\n",
    "csv_buffer = BytesIO()\n",
    "df_cleaned.to_csv(csv_buffer, index=False)\n",
    "\n",
    "cleaned_key = 'cleaned/weather_data_cleaned.csv'\n",
    "s3.put_object(Bucket=bucket, Key=cleaned_key, Body=csv_buffer.getvalue())\n",
    "\n",
    "print(f\"✅ Cleaned dataset saved to s3://{bucket}/{cleaned_key}\")\n"
   ]
  },
  {
   "cell_type": "code",
   "execution_count": 1,
   "id": "a012f52e-93a5-4d37-928c-0a74bdc418b1",
   "metadata": {},
   "outputs": [
    {
     "name": "stdout",
     "output_type": "stream",
     "text": [
      "✅ Cleaned dataset uploaded to s3://kinesis-lambda-s3-bucket1/cleaned/cleaned_weather_dataset.csv\n"
     ]
    }
   ],
   "source": [
    "import boto3\n",
    "import json\n",
    "import pandas as pd\n",
    "from io import BytesIO\n",
    "\n",
    "# AWS S3 Setup\n",
    "s3 = boto3.client('s3')\n",
    "bucket_name = 'kinesis-lambda-s3-bucket1'  # replace with your bucket\n",
    "prefix = 'weather_data/'\n",
    "\n",
    "all_records = []\n",
    "\n",
    "# Step 1: List folders (date prefixes)\n",
    "folders = s3.list_objects_v2(Bucket=bucket_name, Prefix=prefix, Delimiter='/')\n",
    "for folder in folders.get('CommonPrefixes', []):\n",
    "    folder_prefix = folder['Prefix']\n",
    "    \n",
    "    # Step 2: List all JSON files in the folder\n",
    "    objects = s3.list_objects_v2(Bucket=bucket_name, Prefix=folder_prefix)\n",
    "    for obj in objects.get('Contents', []):\n",
    "        key = obj['Key']\n",
    "        if key.endswith('.json'):\n",
    "            file = s3.get_object(Bucket=bucket_name, Key=key)\n",
    "            content = file['Body'].read().decode('utf-8')\n",
    "            try:\n",
    "                data = json.loads(content)\n",
    "                all_records.append(data)\n",
    "            except Exception as e:\n",
    "                print(f\"❌ Skipped invalid JSON in {key}: {e}\")\n",
    "\n",
    "# Step 3: Convert to DataFrame and clean\n",
    "df = pd.DataFrame(all_records)\n",
    "\n",
    "# Optional: drop rows with missing required values\n",
    "df_cleaned = df.dropna(subset=['date', 'station'])\n",
    "\n",
    "# Optional: convert date column to datetime type\n",
    "df_cleaned['date'] = pd.to_datetime(df_cleaned['date'])\n",
    "\n",
    "# Step 4: Upload merged CSV to S3\n",
    "csv_buffer = BytesIO()\n",
    "df_cleaned.to_csv(csv_buffer, index=False)\n",
    "\n",
    "output_key = 'cleaned/cleaned_weather_dataset.csv'\n",
    "s3.put_object(Bucket=bucket_name, Key=output_key, Body=csv_buffer.getvalue())\n",
    "\n",
    "print(f\"✅ Cleaned dataset uploaded to s3://{bucket_name}/{output_key}\")\n"
   ]
  },
  {
   "cell_type": "code",
   "execution_count": 9,
   "id": "20b9df2b-28f7-4671-81f9-f6e6b15d4b9e",
   "metadata": {},
   "outputs": [
    {
     "name": "stdout",
     "output_type": "stream",
     "text": [
      "Downloading: cleaned/cleaned_weather_dataset.csv -> C:\\Users\\DELL\\Downloads\\s3_downloads\\cleaned\\cleaned_weather_dataset.csv\n",
      "Downloading: weather_data/2025-03-01/weather_1743644344.431772.json -> C:\\Users\\DELL\\Downloads\\s3_downloads\\weather_data\\2025-03-01\\weather_1743644344.431772.json\n",
      "Downloading: weather_data/2025-03-02/weather_1743644423.458344.json -> C:\\Users\\DELL\\Downloads\\s3_downloads\\weather_data\\2025-03-02\\weather_1743644423.458344.json\n",
      "Downloading: weather_data/2025-03-03/weather_1743644428.450659.json -> C:\\Users\\DELL\\Downloads\\s3_downloads\\weather_data\\2025-03-03\\weather_1743644428.450659.json\n",
      "Downloading: weather_data/2025-03-04/weather_1743644435.437231.json -> C:\\Users\\DELL\\Downloads\\s3_downloads\\weather_data\\2025-03-04\\weather_1743644435.437231.json\n",
      "Downloading: weather_data/2025-03-05/weather_1743644442.466469.json -> C:\\Users\\DELL\\Downloads\\s3_downloads\\weather_data\\2025-03-05\\weather_1743644442.466469.json\n",
      "Downloading: weather_data/2025-03-06/weather_1743644449.581463.json -> C:\\Users\\DELL\\Downloads\\s3_downloads\\weather_data\\2025-03-06\\weather_1743644449.581463.json\n",
      "Downloading: weather_data/2025-03-07/weather_1743644456.513245.json -> C:\\Users\\DELL\\Downloads\\s3_downloads\\weather_data\\2025-03-07\\weather_1743644456.513245.json\n",
      "Downloading: weather_data/2025-03-08/weather_1743644461.453073.json -> C:\\Users\\DELL\\Downloads\\s3_downloads\\weather_data\\2025-03-08\\weather_1743644461.453073.json\n",
      "Downloading: weather_data/2025-03-09/weather_1743644468.47968.json -> C:\\Users\\DELL\\Downloads\\s3_downloads\\weather_data\\2025-03-09\\weather_1743644468.47968.json\n",
      "Downloading: weather_data/2025-03-10/weather_1743644063.04227.json -> C:\\Users\\DELL\\Downloads\\s3_downloads\\weather_data\\2025-03-10\\weather_1743644063.04227.json\n",
      "Downloading: weather_data/2025-03-11/weather_1743644071.351732.json -> C:\\Users\\DELL\\Downloads\\s3_downloads\\weather_data\\2025-03-11\\weather_1743644071.351732.json\n",
      "Downloading: weather_data/2025-03-12/weather_1743644078.370079.json -> C:\\Users\\DELL\\Downloads\\s3_downloads\\weather_data\\2025-03-12\\weather_1743644078.370079.json\n",
      "Downloading: weather_data/2025-03-13/weather_1743644085.3498.json -> C:\\Users\\DELL\\Downloads\\s3_downloads\\weather_data\\2025-03-13\\weather_1743644085.3498.json\n",
      "Downloading: weather_data/2025-03-14/weather_1743644094.586684.json -> C:\\Users\\DELL\\Downloads\\s3_downloads\\weather_data\\2025-03-14\\weather_1743644094.586684.json\n",
      "Downloading: weather_data/2025-03-15/weather_1743644163.39185.json -> C:\\Users\\DELL\\Downloads\\s3_downloads\\weather_data\\2025-03-15\\weather_1743644163.39185.json\n",
      "Downloading: weather_data/2025-03-16/weather_1743644170.364855.json -> C:\\Users\\DELL\\Downloads\\s3_downloads\\weather_data\\2025-03-16\\weather_1743644170.364855.json\n",
      "Downloading: weather_data/2025-03-17/weather_1743644179.367919.json -> C:\\Users\\DELL\\Downloads\\s3_downloads\\weather_data\\2025-03-17\\weather_1743644179.367919.json\n",
      "Downloading: weather_data/2025-03-18/weather_1743644186.373994.json -> C:\\Users\\DELL\\Downloads\\s3_downloads\\weather_data\\2025-03-18\\weather_1743644186.373994.json\n",
      "Downloading: weather_data/2025-03-19/weather_1743644193.464498.json -> C:\\Users\\DELL\\Downloads\\s3_downloads\\weather_data\\2025-03-19\\weather_1743644193.464498.json\n",
      "Downloading: weather_data/2025-03-20/weather_1743644201.56219.json -> C:\\Users\\DELL\\Downloads\\s3_downloads\\weather_data\\2025-03-20\\weather_1743644201.56219.json\n",
      "Downloading: weather_data/2025-03-21/weather_1743644210.383894.json -> C:\\Users\\DELL\\Downloads\\s3_downloads\\weather_data\\2025-03-21\\weather_1743644210.383894.json\n",
      "Downloading: weather_data/2025-03-22/weather_1743644217.389736.json -> C:\\Users\\DELL\\Downloads\\s3_downloads\\weather_data\\2025-03-22\\weather_1743644217.389736.json\n",
      "Downloading: weather_data/2025-03-23/weather_1743644224.387086.json -> C:\\Users\\DELL\\Downloads\\s3_downloads\\weather_data\\2025-03-23\\weather_1743644224.387086.json\n",
      "Downloading: weather_data/2025-03-24/weather_1743644231.424476.json -> C:\\Users\\DELL\\Downloads\\s3_downloads\\weather_data\\2025-03-24\\weather_1743644231.424476.json\n",
      "Downloading: weather_data/2025-03-25/weather_1743644238.446139.json -> C:\\Users\\DELL\\Downloads\\s3_downloads\\weather_data\\2025-03-25\\weather_1743644238.446139.json\n",
      "Downloading: weather_data/2025-03-26/weather_1743644247.392891.json -> C:\\Users\\DELL\\Downloads\\s3_downloads\\weather_data\\2025-03-26\\weather_1743644247.392891.json\n",
      "Downloading: weather_data/2025-03-27/weather_1743644254.389398.json -> C:\\Users\\DELL\\Downloads\\s3_downloads\\weather_data\\2025-03-27\\weather_1743644254.389398.json\n",
      "Downloading: weather_data/2025-03-28/weather_1743644261.398057.json -> C:\\Users\\DELL\\Downloads\\s3_downloads\\weather_data\\2025-03-28\\weather_1743644261.398057.json\n",
      "Downloading: weather_data/2025-03-29/weather_1743644268.444538.json -> C:\\Users\\DELL\\Downloads\\s3_downloads\\weather_data\\2025-03-29\\weather_1743644268.444538.json\n",
      "Downloading: weather_data/2025-03-30/weather_1743644279.399243.json -> C:\\Users\\DELL\\Downloads\\s3_downloads\\weather_data\\2025-03-30\\weather_1743644279.399243.json\n"
     ]
    }
   ],
   "source": [
    "import boto3\n",
    "import os\n",
    "from pathlib import Path\n",
    "\n",
    "# --- Configuration ---\n",
    "bucket_name = 'kinesis-lambda-s3-bucket1'\n",
    "downloads_dir = Path.home() / 'Downloads' / 's3_downloads'  # Creates a subfolder in Downloads\n",
    "\n",
    "# --- Setup ---\n",
    "s3 = boto3.client('s3')\n",
    "downloads_dir.mkdir(parents=True, exist_ok=True)\n",
    "\n",
    "# List and download files\n",
    "response = s3.list_objects_v2(Bucket=bucket_name)\n",
    "\n",
    "if 'Contents' in response:\n",
    "    for obj in response['Contents']:\n",
    "        key = obj['Key']\n",
    "        local_file_path = downloads_dir / key\n",
    "        local_file_path.parent.mkdir(parents=True, exist_ok=True)\n",
    "\n",
    "        print(f\"Downloading: {key} -> {local_file_path}\")\n",
    "        s3.download_file(bucket_name, key, str(local_file_path))\n",
    "else:\n",
    "    print(\"No files found in the bucket.\")\n"
   ]
  },
  {
   "cell_type": "code",
   "execution_count": 10,
   "id": "0765ef2b-f753-4db6-b0a8-cfc10437712c",
   "metadata": {},
   "outputs": [],
   "source": [
    "import boto3\n",
    "s3 = boto3.client(\"s3\")\n",
    "response = s3.list_objects_v2(Bucket=\"kinesis-lambda-s3-bucket1\", Prefix=\"models/\")\n",
    "for obj in response.get(\"Contents\", []):\n",
    "    print(obj['Key'])\n"
   ]
  },
  {
   "cell_type": "code",
   "execution_count": null,
   "id": "c37cacdc-c708-4d46-a327-26fdf38fe3a9",
   "metadata": {},
   "outputs": [],
   "source": []
  }
 ],
 "metadata": {
  "kernelspec": {
   "display_name": "Python 3 (ipykernel)",
   "language": "python",
   "name": "python3"
  },
  "language_info": {
   "codemirror_mode": {
    "name": "ipython",
    "version": 3
   },
   "file_extension": ".py",
   "mimetype": "text/x-python",
   "name": "python",
   "nbconvert_exporter": "python",
   "pygments_lexer": "ipython3",
   "version": "3.11.11"
  }
 },
 "nbformat": 4,
 "nbformat_minor": 5
}
